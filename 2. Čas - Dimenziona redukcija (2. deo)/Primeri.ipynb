{
 "cells": [
  {
   "cell_type": "code",
   "execution_count": 1,
   "id": "a7e5b928",
   "metadata": {},
   "outputs": [],
   "source": [
    "import pandas as pd\n",
    "import numpy as np\n",
    "from sklearn import datasets\n",
    "import matplotlib.pyplot as plt"
   ]
  },
  {
   "cell_type": "code",
   "execution_count": 2,
   "id": "93deb02c",
   "metadata": {},
   "outputs": [],
   "source": [
    "data = datasets.load_iris()\n",
    "\n",
    "columns = np.array(data.feature_names) # Nazivi atributa\n",
    "X = data.data # Atributi\n",
    "y = data.target # Ciljna promenljiva / oznaka klase"
   ]
  },
  {
   "cell_type": "code",
   "execution_count": 3,
   "id": "a03ebef5",
   "metadata": {},
   "outputs": [],
   "source": [
    "data_values = np.concatenate((X, y.reshape((y.shape[0], 1))), axis=1)\n",
    "iris_df = pd.DataFrame(data=data_values, columns=[col for col in columns] + ['class'])"
   ]
  },
  {
   "cell_type": "code",
   "execution_count": 4,
   "id": "47a3579a",
   "metadata": {},
   "outputs": [
    {
     "data": {
      "text/html": [
       "<div>\n",
       "<style scoped>\n",
       "    .dataframe tbody tr th:only-of-type {\n",
       "        vertical-align: middle;\n",
       "    }\n",
       "\n",
       "    .dataframe tbody tr th {\n",
       "        vertical-align: top;\n",
       "    }\n",
       "\n",
       "    .dataframe thead th {\n",
       "        text-align: right;\n",
       "    }\n",
       "</style>\n",
       "<table border=\"1\" class=\"dataframe\">\n",
       "  <thead>\n",
       "    <tr style=\"text-align: right;\">\n",
       "      <th></th>\n",
       "      <th>sepal length (cm)</th>\n",
       "      <th>sepal width (cm)</th>\n",
       "      <th>petal length (cm)</th>\n",
       "      <th>petal width (cm)</th>\n",
       "      <th>class</th>\n",
       "    </tr>\n",
       "  </thead>\n",
       "  <tbody>\n",
       "    <tr>\n",
       "      <th>0</th>\n",
       "      <td>5.1</td>\n",
       "      <td>3.5</td>\n",
       "      <td>1.4</td>\n",
       "      <td>0.2</td>\n",
       "      <td>0.0</td>\n",
       "    </tr>\n",
       "    <tr>\n",
       "      <th>1</th>\n",
       "      <td>4.9</td>\n",
       "      <td>3.0</td>\n",
       "      <td>1.4</td>\n",
       "      <td>0.2</td>\n",
       "      <td>0.0</td>\n",
       "    </tr>\n",
       "    <tr>\n",
       "      <th>2</th>\n",
       "      <td>4.7</td>\n",
       "      <td>3.2</td>\n",
       "      <td>1.3</td>\n",
       "      <td>0.2</td>\n",
       "      <td>0.0</td>\n",
       "    </tr>\n",
       "    <tr>\n",
       "      <th>3</th>\n",
       "      <td>4.6</td>\n",
       "      <td>3.1</td>\n",
       "      <td>1.5</td>\n",
       "      <td>0.2</td>\n",
       "      <td>0.0</td>\n",
       "    </tr>\n",
       "    <tr>\n",
       "      <th>4</th>\n",
       "      <td>5.0</td>\n",
       "      <td>3.6</td>\n",
       "      <td>1.4</td>\n",
       "      <td>0.2</td>\n",
       "      <td>0.0</td>\n",
       "    </tr>\n",
       "    <tr>\n",
       "      <th>...</th>\n",
       "      <td>...</td>\n",
       "      <td>...</td>\n",
       "      <td>...</td>\n",
       "      <td>...</td>\n",
       "      <td>...</td>\n",
       "    </tr>\n",
       "    <tr>\n",
       "      <th>145</th>\n",
       "      <td>6.7</td>\n",
       "      <td>3.0</td>\n",
       "      <td>5.2</td>\n",
       "      <td>2.3</td>\n",
       "      <td>2.0</td>\n",
       "    </tr>\n",
       "    <tr>\n",
       "      <th>146</th>\n",
       "      <td>6.3</td>\n",
       "      <td>2.5</td>\n",
       "      <td>5.0</td>\n",
       "      <td>1.9</td>\n",
       "      <td>2.0</td>\n",
       "    </tr>\n",
       "    <tr>\n",
       "      <th>147</th>\n",
       "      <td>6.5</td>\n",
       "      <td>3.0</td>\n",
       "      <td>5.2</td>\n",
       "      <td>2.0</td>\n",
       "      <td>2.0</td>\n",
       "    </tr>\n",
       "    <tr>\n",
       "      <th>148</th>\n",
       "      <td>6.2</td>\n",
       "      <td>3.4</td>\n",
       "      <td>5.4</td>\n",
       "      <td>2.3</td>\n",
       "      <td>2.0</td>\n",
       "    </tr>\n",
       "    <tr>\n",
       "      <th>149</th>\n",
       "      <td>5.9</td>\n",
       "      <td>3.0</td>\n",
       "      <td>5.1</td>\n",
       "      <td>1.8</td>\n",
       "      <td>2.0</td>\n",
       "    </tr>\n",
       "  </tbody>\n",
       "</table>\n",
       "<p>150 rows × 5 columns</p>\n",
       "</div>"
      ],
      "text/plain": [
       "     sepal length (cm)  sepal width (cm)  petal length (cm)  petal width (cm)  \\\n",
       "0                  5.1               3.5                1.4               0.2   \n",
       "1                  4.9               3.0                1.4               0.2   \n",
       "2                  4.7               3.2                1.3               0.2   \n",
       "3                  4.6               3.1                1.5               0.2   \n",
       "4                  5.0               3.6                1.4               0.2   \n",
       "..                 ...               ...                ...               ...   \n",
       "145                6.7               3.0                5.2               2.3   \n",
       "146                6.3               2.5                5.0               1.9   \n",
       "147                6.5               3.0                5.2               2.0   \n",
       "148                6.2               3.4                5.4               2.3   \n",
       "149                5.9               3.0                5.1               1.8   \n",
       "\n",
       "     class  \n",
       "0      0.0  \n",
       "1      0.0  \n",
       "2      0.0  \n",
       "3      0.0  \n",
       "4      0.0  \n",
       "..     ...  \n",
       "145    2.0  \n",
       "146    2.0  \n",
       "147    2.0  \n",
       "148    2.0  \n",
       "149    2.0  \n",
       "\n",
       "[150 rows x 5 columns]"
      ]
     },
     "execution_count": 4,
     "metadata": {},
     "output_type": "execute_result"
    }
   ],
   "source": [
    "iris_df"
   ]
  },
  {
   "cell_type": "code",
   "execution_count": 27,
   "id": "eb12dcb5",
   "metadata": {},
   "outputs": [],
   "source": [
    "from sklearn.feature_selection import f_classif, SelectKBest, SequentialFeatureSelector"
   ]
  },
  {
   "cell_type": "code",
   "execution_count": 13,
   "id": "43303a98",
   "metadata": {
    "scrolled": true
   },
   "outputs": [
    {
     "name": "stdout",
     "output_type": "stream",
     "text": [
      "petal length (cm): F=1180.1611822529776, p=2.85677661096213e-91\n",
      "petal width (cm): F=960.0071468018025, p=4.169445839445089e-85\n",
      "sepal length (cm): F=119.26450218449871, p=1.6696691907731882e-31\n",
      "sepal width (cm): F=49.16004008961098, p=4.4920171333119905e-17\n"
     ]
    }
   ],
   "source": [
    "[F, p] = f_classif(X, y)\n",
    "zipped = sorted(zip(columns, F, p), key=lambda x: x[1], reverse=True)\n",
    "for el in zipped:\n",
    "    print(f'{el[0]}: F={el[1]}, p={el[2]}')"
   ]
  },
  {
   "cell_type": "code",
   "execution_count": 39,
   "id": "8a26c792",
   "metadata": {},
   "outputs": [],
   "source": [
    "skb = SelectKBest(score_func=f_classif, k=3)\n",
    "X_skb = skb.fit_transform(X, y)"
   ]
  },
  {
   "cell_type": "code",
   "execution_count": 40,
   "id": "bf530af2",
   "metadata": {},
   "outputs": [
    {
     "data": {
      "text/html": [
       "<div>\n",
       "<style scoped>\n",
       "    .dataframe tbody tr th:only-of-type {\n",
       "        vertical-align: middle;\n",
       "    }\n",
       "\n",
       "    .dataframe tbody tr th {\n",
       "        vertical-align: top;\n",
       "    }\n",
       "\n",
       "    .dataframe thead th {\n",
       "        text-align: right;\n",
       "    }\n",
       "</style>\n",
       "<table border=\"1\" class=\"dataframe\">\n",
       "  <thead>\n",
       "    <tr style=\"text-align: right;\">\n",
       "      <th></th>\n",
       "      <th>sepal length (cm)</th>\n",
       "      <th>petal length (cm)</th>\n",
       "      <th>petal width (cm)</th>\n",
       "    </tr>\n",
       "  </thead>\n",
       "  <tbody>\n",
       "    <tr>\n",
       "      <th>0</th>\n",
       "      <td>5.1</td>\n",
       "      <td>1.4</td>\n",
       "      <td>0.2</td>\n",
       "    </tr>\n",
       "    <tr>\n",
       "      <th>1</th>\n",
       "      <td>4.9</td>\n",
       "      <td>1.4</td>\n",
       "      <td>0.2</td>\n",
       "    </tr>\n",
       "    <tr>\n",
       "      <th>2</th>\n",
       "      <td>4.7</td>\n",
       "      <td>1.3</td>\n",
       "      <td>0.2</td>\n",
       "    </tr>\n",
       "    <tr>\n",
       "      <th>3</th>\n",
       "      <td>4.6</td>\n",
       "      <td>1.5</td>\n",
       "      <td>0.2</td>\n",
       "    </tr>\n",
       "    <tr>\n",
       "      <th>4</th>\n",
       "      <td>5.0</td>\n",
       "      <td>1.4</td>\n",
       "      <td>0.2</td>\n",
       "    </tr>\n",
       "    <tr>\n",
       "      <th>...</th>\n",
       "      <td>...</td>\n",
       "      <td>...</td>\n",
       "      <td>...</td>\n",
       "    </tr>\n",
       "    <tr>\n",
       "      <th>145</th>\n",
       "      <td>6.7</td>\n",
       "      <td>5.2</td>\n",
       "      <td>2.3</td>\n",
       "    </tr>\n",
       "    <tr>\n",
       "      <th>146</th>\n",
       "      <td>6.3</td>\n",
       "      <td>5.0</td>\n",
       "      <td>1.9</td>\n",
       "    </tr>\n",
       "    <tr>\n",
       "      <th>147</th>\n",
       "      <td>6.5</td>\n",
       "      <td>5.2</td>\n",
       "      <td>2.0</td>\n",
       "    </tr>\n",
       "    <tr>\n",
       "      <th>148</th>\n",
       "      <td>6.2</td>\n",
       "      <td>5.4</td>\n",
       "      <td>2.3</td>\n",
       "    </tr>\n",
       "    <tr>\n",
       "      <th>149</th>\n",
       "      <td>5.9</td>\n",
       "      <td>5.1</td>\n",
       "      <td>1.8</td>\n",
       "    </tr>\n",
       "  </tbody>\n",
       "</table>\n",
       "<p>150 rows × 3 columns</p>\n",
       "</div>"
      ],
      "text/plain": [
       "     sepal length (cm)  petal length (cm)  petal width (cm)\n",
       "0                  5.1                1.4               0.2\n",
       "1                  4.9                1.4               0.2\n",
       "2                  4.7                1.3               0.2\n",
       "3                  4.6                1.5               0.2\n",
       "4                  5.0                1.4               0.2\n",
       "..                 ...                ...               ...\n",
       "145                6.7                5.2               2.3\n",
       "146                6.3                5.0               1.9\n",
       "147                6.5                5.2               2.0\n",
       "148                6.2                5.4               2.3\n",
       "149                5.9                5.1               1.8\n",
       "\n",
       "[150 rows x 3 columns]"
      ]
     },
     "execution_count": 40,
     "metadata": {},
     "output_type": "execute_result"
    }
   ],
   "source": [
    "remaining_cols = columns[skb.get_support()]\n",
    "pd.DataFrame(data=X_skb, columns=remaining_cols)"
   ]
  },
  {
   "cell_type": "code",
   "execution_count": 49,
   "id": "cb9fe847",
   "metadata": {},
   "outputs": [],
   "source": [
    "from sklearn.tree import DecisionTreeClassifier, plot_tree\n",
    "\n",
    "tree = DecisionTreeClassifier(max_depth=2)\n",
    "sfs = SequentialFeatureSelector(estimator=tree, n_features_to_select=3, direction='backward')\n",
    "X_sfs = sfs.fit_transform(X, y)"
   ]
  },
  {
   "cell_type": "code",
   "execution_count": 44,
   "id": "8e304ec9",
   "metadata": {},
   "outputs": [
    {
     "data": {
      "text/html": [
       "<div>\n",
       "<style scoped>\n",
       "    .dataframe tbody tr th:only-of-type {\n",
       "        vertical-align: middle;\n",
       "    }\n",
       "\n",
       "    .dataframe tbody tr th {\n",
       "        vertical-align: top;\n",
       "    }\n",
       "\n",
       "    .dataframe thead th {\n",
       "        text-align: right;\n",
       "    }\n",
       "</style>\n",
       "<table border=\"1\" class=\"dataframe\">\n",
       "  <thead>\n",
       "    <tr style=\"text-align: right;\">\n",
       "      <th></th>\n",
       "      <th>sepal length (cm)</th>\n",
       "      <th>sepal width (cm)</th>\n",
       "      <th>petal length (cm)</th>\n",
       "    </tr>\n",
       "  </thead>\n",
       "  <tbody>\n",
       "    <tr>\n",
       "      <th>0</th>\n",
       "      <td>5.1</td>\n",
       "      <td>3.5</td>\n",
       "      <td>1.4</td>\n",
       "    </tr>\n",
       "    <tr>\n",
       "      <th>1</th>\n",
       "      <td>4.9</td>\n",
       "      <td>3.0</td>\n",
       "      <td>1.4</td>\n",
       "    </tr>\n",
       "    <tr>\n",
       "      <th>2</th>\n",
       "      <td>4.7</td>\n",
       "      <td>3.2</td>\n",
       "      <td>1.3</td>\n",
       "    </tr>\n",
       "    <tr>\n",
       "      <th>3</th>\n",
       "      <td>4.6</td>\n",
       "      <td>3.1</td>\n",
       "      <td>1.5</td>\n",
       "    </tr>\n",
       "    <tr>\n",
       "      <th>4</th>\n",
       "      <td>5.0</td>\n",
       "      <td>3.6</td>\n",
       "      <td>1.4</td>\n",
       "    </tr>\n",
       "    <tr>\n",
       "      <th>...</th>\n",
       "      <td>...</td>\n",
       "      <td>...</td>\n",
       "      <td>...</td>\n",
       "    </tr>\n",
       "    <tr>\n",
       "      <th>145</th>\n",
       "      <td>6.7</td>\n",
       "      <td>3.0</td>\n",
       "      <td>5.2</td>\n",
       "    </tr>\n",
       "    <tr>\n",
       "      <th>146</th>\n",
       "      <td>6.3</td>\n",
       "      <td>2.5</td>\n",
       "      <td>5.0</td>\n",
       "    </tr>\n",
       "    <tr>\n",
       "      <th>147</th>\n",
       "      <td>6.5</td>\n",
       "      <td>3.0</td>\n",
       "      <td>5.2</td>\n",
       "    </tr>\n",
       "    <tr>\n",
       "      <th>148</th>\n",
       "      <td>6.2</td>\n",
       "      <td>3.4</td>\n",
       "      <td>5.4</td>\n",
       "    </tr>\n",
       "    <tr>\n",
       "      <th>149</th>\n",
       "      <td>5.9</td>\n",
       "      <td>3.0</td>\n",
       "      <td>5.1</td>\n",
       "    </tr>\n",
       "  </tbody>\n",
       "</table>\n",
       "<p>150 rows × 3 columns</p>\n",
       "</div>"
      ],
      "text/plain": [
       "     sepal length (cm)  sepal width (cm)  petal length (cm)\n",
       "0                  5.1               3.5                1.4\n",
       "1                  4.9               3.0                1.4\n",
       "2                  4.7               3.2                1.3\n",
       "3                  4.6               3.1                1.5\n",
       "4                  5.0               3.6                1.4\n",
       "..                 ...               ...                ...\n",
       "145                6.7               3.0                5.2\n",
       "146                6.3               2.5                5.0\n",
       "147                6.5               3.0                5.2\n",
       "148                6.2               3.4                5.4\n",
       "149                5.9               3.0                5.1\n",
       "\n",
       "[150 rows x 3 columns]"
      ]
     },
     "execution_count": 44,
     "metadata": {},
     "output_type": "execute_result"
    }
   ],
   "source": [
    "remaining_cols = columns[sfs.get_support()]\n",
    "pd.DataFrame(data=X_sfs, columns=remaining_cols)"
   ]
  },
  {
   "cell_type": "code",
   "execution_count": 63,
   "id": "38600191",
   "metadata": {},
   "outputs": [
    {
     "data": {
      "text/plain": [
       "DecisionTreeClassifier(max_depth=2, min_samples_leaf=10)"
      ]
     },
     "execution_count": 63,
     "metadata": {},
     "output_type": "execute_result"
    }
   ],
   "source": [
    "tree = DecisionTreeClassifier(max_depth=2, min_samples_leaf=10)\n",
    "tree.fit(X, y)"
   ]
  },
  {
   "cell_type": "code",
   "execution_count": 64,
   "id": "f883bba6",
   "metadata": {},
   "outputs": [
    {
     "data": {
      "text/plain": [
       "0.96"
      ]
     },
     "execution_count": 64,
     "metadata": {},
     "output_type": "execute_result"
    }
   ],
   "source": [
    "tree.score(X, y)"
   ]
  },
  {
   "cell_type": "code",
   "execution_count": 65,
   "id": "5bebbdbf",
   "metadata": {},
   "outputs": [
    {
     "data": {
      "text/plain": [
       "array([0.        , 0.        , 0.56199095, 0.43800905])"
      ]
     },
     "execution_count": 65,
     "metadata": {},
     "output_type": "execute_result"
    }
   ],
   "source": [
    "tree.feature_importances_"
   ]
  },
  {
   "cell_type": "code",
   "execution_count": 66,
   "id": "20e77091",
   "metadata": {},
   "outputs": [
    {
     "data": {
      "text/plain": [
       "[Text(0.4, 0.8333333333333334, 'petal length (cm) <= 2.45\\ngini = 0.667\\nsamples = 150\\nvalue = [50, 50, 50]'),\n",
       " Text(0.2, 0.5, 'gini = 0.0\\nsamples = 50\\nvalue = [50, 0, 0]'),\n",
       " Text(0.6, 0.5, 'petal width (cm) <= 1.75\\ngini = 0.5\\nsamples = 100\\nvalue = [0, 50, 50]'),\n",
       " Text(0.4, 0.16666666666666666, 'gini = 0.168\\nsamples = 54\\nvalue = [0, 49, 5]'),\n",
       " Text(0.8, 0.16666666666666666, 'gini = 0.043\\nsamples = 46\\nvalue = [0, 1, 45]')]"
      ]
     },
     "execution_count": 66,
     "metadata": {},
     "output_type": "execute_result"
    },
    {
     "data": {
      "image/png": "[encoded data removed]",
      "text/plain": [
       "<Figure size 432x288 with 1 Axes>"
      ]
     },
     "metadata": {
      "needs_background": "light"
     },
     "output_type": "display_data"
    }
   ],
   "source": [
    "plot_tree(tree, feature_names=columns)"
   ]
  },
  {
   "cell_type": "code",
   "execution_count": 104,
   "id": "36863bcb",
   "metadata": {},
   "outputs": [],
   "source": [
    "data_b = pd.read_csv('B_CELL_NAIVE_TPM.csv')\n",
    "data_m = pd.read_csv('MONOCYTES_TPM.csv')\n",
    "data_m2 = pd.read_csv('M2_TPM.csv')"
   ]
  },
  {
   "cell_type": "code",
   "execution_count": 68,
   "id": "9a56d682",
   "metadata": {},
   "outputs": [
    {
     "data": {
      "text/html": [
       "<div>\n",
       "<style scoped>\n",
       "    .dataframe tbody tr th:only-of-type {\n",
       "        vertical-align: middle;\n",
       "    }\n",
       "\n",
       "    .dataframe tbody tr th {\n",
       "        vertical-align: top;\n",
       "    }\n",
       "\n",
       "    .dataframe thead th {\n",
       "        text-align: right;\n",
       "    }\n",
       "</style>\n",
       "<table border=\"1\" class=\"dataframe\">\n",
       "  <thead>\n",
       "    <tr style=\"text-align: right;\">\n",
       "      <th></th>\n",
       "      <th>Feature_name</th>\n",
       "      <th>Transcript_Length(bp)</th>\n",
       "      <th>Additional_annotations</th>\n",
       "      <th>0</th>\n",
       "      <th>1</th>\n",
       "      <th>2</th>\n",
       "      <th>3</th>\n",
       "      <th>4</th>\n",
       "      <th>5</th>\n",
       "      <th>6</th>\n",
       "      <th>...</th>\n",
       "      <th>81</th>\n",
       "      <th>82</th>\n",
       "      <th>83</th>\n",
       "      <th>84</th>\n",
       "      <th>85</th>\n",
       "      <th>86</th>\n",
       "      <th>87</th>\n",
       "      <th>88</th>\n",
       "      <th>89</th>\n",
       "      <th>90</th>\n",
       "    </tr>\n",
       "  </thead>\n",
       "  <tbody>\n",
       "    <tr>\n",
       "      <th>0</th>\n",
       "      <td>ENSG00000000003.14</td>\n",
       "      <td>4535</td>\n",
       "      <td>TSPAN6;protein_coding</td>\n",
       "      <td>1.102855</td>\n",
       "      <td>0.787619</td>\n",
       "      <td>0.782210</td>\n",
       "      <td>0.743613</td>\n",
       "      <td>0.731157</td>\n",
       "      <td>0.722818</td>\n",
       "      <td>0.704557</td>\n",
       "      <td>...</td>\n",
       "      <td>0.137660</td>\n",
       "      <td>0.133081</td>\n",
       "      <td>0.122123</td>\n",
       "      <td>0.108031</td>\n",
       "      <td>0.071715</td>\n",
       "      <td>0.068885</td>\n",
       "      <td>0.067379</td>\n",
       "      <td>0.060864</td>\n",
       "      <td>0.000000</td>\n",
       "      <td>0.000000</td>\n",
       "    </tr>\n",
       "    <tr>\n",
       "      <th>1</th>\n",
       "      <td>ENSG00000000005.5</td>\n",
       "      <td>1610</td>\n",
       "      <td>TNMD;protein_coding</td>\n",
       "      <td>0.000000</td>\n",
       "      <td>0.000000</td>\n",
       "      <td>0.000000</td>\n",
       "      <td>0.000000</td>\n",
       "      <td>0.000000</td>\n",
       "      <td>0.000000</td>\n",
       "      <td>0.000000</td>\n",
       "      <td>...</td>\n",
       "      <td>0.000000</td>\n",
       "      <td>0.000000</td>\n",
       "      <td>0.000000</td>\n",
       "      <td>0.000000</td>\n",
       "      <td>0.000000</td>\n",
       "      <td>0.000000</td>\n",
       "      <td>0.000000</td>\n",
       "      <td>0.000000</td>\n",
       "      <td>0.000000</td>\n",
       "      <td>0.000000</td>\n",
       "    </tr>\n",
       "    <tr>\n",
       "      <th>2</th>\n",
       "      <td>ENSG00000000419.12</td>\n",
       "      <td>1207</td>\n",
       "      <td>DPM1;protein_coding</td>\n",
       "      <td>183.866738</td>\n",
       "      <td>176.360749</td>\n",
       "      <td>150.901130</td>\n",
       "      <td>147.246804</td>\n",
       "      <td>146.381212</td>\n",
       "      <td>144.753933</td>\n",
       "      <td>142.198343</td>\n",
       "      <td>...</td>\n",
       "      <td>84.510627</td>\n",
       "      <td>82.894723</td>\n",
       "      <td>81.582643</td>\n",
       "      <td>79.728881</td>\n",
       "      <td>79.454542</td>\n",
       "      <td>77.910694</td>\n",
       "      <td>77.796118</td>\n",
       "      <td>77.234762</td>\n",
       "      <td>67.594100</td>\n",
       "      <td>65.335429</td>\n",
       "    </tr>\n",
       "    <tr>\n",
       "      <th>3</th>\n",
       "      <td>ENSG00000000457.13</td>\n",
       "      <td>6883</td>\n",
       "      <td>SCYL3;protein_coding</td>\n",
       "      <td>32.043609</td>\n",
       "      <td>31.172579</td>\n",
       "      <td>30.732048</td>\n",
       "      <td>30.341668</td>\n",
       "      <td>30.287886</td>\n",
       "      <td>30.112584</td>\n",
       "      <td>29.892220</td>\n",
       "      <td>...</td>\n",
       "      <td>15.106233</td>\n",
       "      <td>14.981120</td>\n",
       "      <td>14.705860</td>\n",
       "      <td>14.276945</td>\n",
       "      <td>14.268698</td>\n",
       "      <td>12.641759</td>\n",
       "      <td>12.270348</td>\n",
       "      <td>12.222083</td>\n",
       "      <td>12.169092</td>\n",
       "      <td>10.503712</td>\n",
       "    </tr>\n",
       "    <tr>\n",
       "      <th>4</th>\n",
       "      <td>ENSG00000000460.16</td>\n",
       "      <td>5967</td>\n",
       "      <td>C1orf112;protein_coding</td>\n",
       "      <td>19.648137</td>\n",
       "      <td>17.902580</td>\n",
       "      <td>17.872048</td>\n",
       "      <td>17.755179</td>\n",
       "      <td>17.582137</td>\n",
       "      <td>17.037854</td>\n",
       "      <td>15.732126</td>\n",
       "      <td>...</td>\n",
       "      <td>10.246062</td>\n",
       "      <td>9.702637</td>\n",
       "      <td>9.647632</td>\n",
       "      <td>9.276205</td>\n",
       "      <td>9.264137</td>\n",
       "      <td>8.773519</td>\n",
       "      <td>8.537409</td>\n",
       "      <td>7.353267</td>\n",
       "      <td>6.385077</td>\n",
       "      <td>5.611507</td>\n",
       "    </tr>\n",
       "    <tr>\n",
       "      <th>...</th>\n",
       "      <td>...</td>\n",
       "      <td>...</td>\n",
       "      <td>...</td>\n",
       "      <td>...</td>\n",
       "      <td>...</td>\n",
       "      <td>...</td>\n",
       "      <td>...</td>\n",
       "      <td>...</td>\n",
       "      <td>...</td>\n",
       "      <td>...</td>\n",
       "      <td>...</td>\n",
       "      <td>...</td>\n",
       "      <td>...</td>\n",
       "      <td>...</td>\n",
       "      <td>...</td>\n",
       "      <td>...</td>\n",
       "      <td>...</td>\n",
       "      <td>...</td>\n",
       "      <td>...</td>\n",
       "      <td>...</td>\n",
       "      <td>...</td>\n",
       "    </tr>\n",
       "    <tr>\n",
       "      <th>58342</th>\n",
       "      <td>ENSG00000284744.1</td>\n",
       "      <td>987</td>\n",
       "      <td>AL591163.1;lincRNA</td>\n",
       "      <td>1.064406</td>\n",
       "      <td>0.959826</td>\n",
       "      <td>0.685362</td>\n",
       "      <td>0.501457</td>\n",
       "      <td>0.363795</td>\n",
       "      <td>0.353655</td>\n",
       "      <td>0.339033</td>\n",
       "      <td>...</td>\n",
       "      <td>0.000000</td>\n",
       "      <td>0.000000</td>\n",
       "      <td>0.000000</td>\n",
       "      <td>0.000000</td>\n",
       "      <td>0.000000</td>\n",
       "      <td>0.000000</td>\n",
       "      <td>0.000000</td>\n",
       "      <td>0.000000</td>\n",
       "      <td>0.000000</td>\n",
       "      <td>0.000000</td>\n",
       "    </tr>\n",
       "    <tr>\n",
       "      <th>58343</th>\n",
       "      <td>ENSG00000284745.1</td>\n",
       "      <td>1654</td>\n",
       "      <td>AL589702.1;lincRNA</td>\n",
       "      <td>0.182459</td>\n",
       "      <td>0.000000</td>\n",
       "      <td>0.000000</td>\n",
       "      <td>0.000000</td>\n",
       "      <td>0.000000</td>\n",
       "      <td>0.000000</td>\n",
       "      <td>0.000000</td>\n",
       "      <td>...</td>\n",
       "      <td>0.000000</td>\n",
       "      <td>0.000000</td>\n",
       "      <td>0.000000</td>\n",
       "      <td>0.000000</td>\n",
       "      <td>0.000000</td>\n",
       "      <td>0.000000</td>\n",
       "      <td>0.000000</td>\n",
       "      <td>0.000000</td>\n",
       "      <td>0.000000</td>\n",
       "      <td>0.000000</td>\n",
       "    </tr>\n",
       "    <tr>\n",
       "      <th>58344</th>\n",
       "      <td>ENSG00000284746.1</td>\n",
       "      <td>219</td>\n",
       "      <td>AC068587.10;transcribed_unprocessed_pseudogene</td>\n",
       "      <td>0.000000</td>\n",
       "      <td>0.000000</td>\n",
       "      <td>0.000000</td>\n",
       "      <td>0.000000</td>\n",
       "      <td>0.000000</td>\n",
       "      <td>0.000000</td>\n",
       "      <td>0.000000</td>\n",
       "      <td>...</td>\n",
       "      <td>0.000000</td>\n",
       "      <td>0.000000</td>\n",
       "      <td>0.000000</td>\n",
       "      <td>0.000000</td>\n",
       "      <td>0.000000</td>\n",
       "      <td>0.000000</td>\n",
       "      <td>0.000000</td>\n",
       "      <td>0.000000</td>\n",
       "      <td>0.000000</td>\n",
       "      <td>0.000000</td>\n",
       "    </tr>\n",
       "    <tr>\n",
       "      <th>58345</th>\n",
       "      <td>ENSG00000284747.1</td>\n",
       "      <td>4116</td>\n",
       "      <td>AL034417.4;antisense_RNA</td>\n",
       "      <td>4.704564</td>\n",
       "      <td>4.246672</td>\n",
       "      <td>4.189509</td>\n",
       "      <td>4.022531</td>\n",
       "      <td>3.805645</td>\n",
       "      <td>3.737218</td>\n",
       "      <td>3.689887</td>\n",
       "      <td>...</td>\n",
       "      <td>1.706345</td>\n",
       "      <td>1.644692</td>\n",
       "      <td>1.634897</td>\n",
       "      <td>1.628788</td>\n",
       "      <td>1.617128</td>\n",
       "      <td>1.574773</td>\n",
       "      <td>1.569729</td>\n",
       "      <td>1.521757</td>\n",
       "      <td>1.339152</td>\n",
       "      <td>0.808748</td>\n",
       "    </tr>\n",
       "    <tr>\n",
       "      <th>58346</th>\n",
       "      <td>ENSG00000284748.1</td>\n",
       "      <td>1326</td>\n",
       "      <td>AL513220.1;bidirectional_promoter_lncRNA</td>\n",
       "      <td>1.132053</td>\n",
       "      <td>0.491874</td>\n",
       "      <td>0.480739</td>\n",
       "      <td>0.474078</td>\n",
       "      <td>0.454655</td>\n",
       "      <td>0.250984</td>\n",
       "      <td>0.235470</td>\n",
       "      <td>...</td>\n",
       "      <td>0.000000</td>\n",
       "      <td>0.000000</td>\n",
       "      <td>0.000000</td>\n",
       "      <td>0.000000</td>\n",
       "      <td>0.000000</td>\n",
       "      <td>0.000000</td>\n",
       "      <td>0.000000</td>\n",
       "      <td>0.000000</td>\n",
       "      <td>0.000000</td>\n",
       "      <td>0.000000</td>\n",
       "    </tr>\n",
       "  </tbody>\n",
       "</table>\n",
       "<p>58347 rows × 94 columns</p>\n",
       "</div>"
      ],
      "text/plain": [
       "             Feature_name  Transcript_Length(bp)  \\\n",
       "0      ENSG00000000003.14                   4535   \n",
       "1       ENSG00000000005.5                   1610   \n",
       "2      ENSG00000000419.12                   1207   \n",
       "3      ENSG00000000457.13                   6883   \n",
       "4      ENSG00000000460.16                   5967   \n",
       "...                   ...                    ...   \n",
       "58342   ENSG00000284744.1                    987   \n",
       "58343   ENSG00000284745.1                   1654   \n",
       "58344   ENSG00000284746.1                    219   \n",
       "58345   ENSG00000284747.1                   4116   \n",
       "58346   ENSG00000284748.1                   1326   \n",
       "\n",
       "                               Additional_annotations           0           1  \\\n",
       "0                               TSPAN6;protein_coding    1.102855    0.787619   \n",
       "1                                 TNMD;protein_coding    0.000000    0.000000   \n",
       "2                                 DPM1;protein_coding  183.866738  176.360749   \n",
       "3                                SCYL3;protein_coding   32.043609   31.172579   \n",
       "4                             C1orf112;protein_coding   19.648137   17.902580   \n",
       "...                                               ...         ...         ...   \n",
       "58342                              AL591163.1;lincRNA    1.064406    0.959826   \n",
       "58343                              AL589702.1;lincRNA    0.182459    0.000000   \n",
       "58344  AC068587.10;transcribed_unprocessed_pseudogene    0.000000    0.000000   \n",
       "58345                        AL034417.4;antisense_RNA    4.704564    4.246672   \n",
       "58346        AL513220.1;bidirectional_promoter_lncRNA    1.132053    0.491874   \n",
       "\n",
       "                2           3           4           5           6  ...  \\\n",
       "0        0.782210    0.743613    0.731157    0.722818    0.704557  ...   \n",
       "1        0.000000    0.000000    0.000000    0.000000    0.000000  ...   \n",
       "2      150.901130  147.246804  146.381212  144.753933  142.198343  ...   \n",
       "3       30.732048   30.341668   30.287886   30.112584   29.892220  ...   \n",
       "4       17.872048   17.755179   17.582137   17.037854   15.732126  ...   \n",
       "...           ...         ...         ...         ...         ...  ...   \n",
       "58342    0.685362    0.501457    0.363795    0.353655    0.339033  ...   \n",
       "58343    0.000000    0.000000    0.000000    0.000000    0.000000  ...   \n",
       "58344    0.000000    0.000000    0.000000    0.000000    0.000000  ...   \n",
       "58345    4.189509    4.022531    3.805645    3.737218    3.689887  ...   \n",
       "58346    0.480739    0.474078    0.454655    0.250984    0.235470  ...   \n",
       "\n",
       "              81         82         83         84         85         86  \\\n",
       "0       0.137660   0.133081   0.122123   0.108031   0.071715   0.068885   \n",
       "1       0.000000   0.000000   0.000000   0.000000   0.000000   0.000000   \n",
       "2      84.510627  82.894723  81.582643  79.728881  79.454542  77.910694   \n",
       "3      15.106233  14.981120  14.705860  14.276945  14.268698  12.641759   \n",
       "4      10.246062   9.702637   9.647632   9.276205   9.264137   8.773519   \n",
       "...          ...        ...        ...        ...        ...        ...   \n",
       "58342   0.000000   0.000000   0.000000   0.000000   0.000000   0.000000   \n",
       "58343   0.000000   0.000000   0.000000   0.000000   0.000000   0.000000   \n",
       "58344   0.000000   0.000000   0.000000   0.000000   0.000000   0.000000   \n",
       "58345   1.706345   1.644692   1.634897   1.628788   1.617128   1.574773   \n",
       "58346   0.000000   0.000000   0.000000   0.000000   0.000000   0.000000   \n",
       "\n",
       "              87         88         89         90  \n",
       "0       0.067379   0.060864   0.000000   0.000000  \n",
       "1       0.000000   0.000000   0.000000   0.000000  \n",
       "2      77.796118  77.234762  67.594100  65.335429  \n",
       "3      12.270348  12.222083  12.169092  10.503712  \n",
       "4       8.537409   7.353267   6.385077   5.611507  \n",
       "...          ...        ...        ...        ...  \n",
       "58342   0.000000   0.000000   0.000000   0.000000  \n",
       "58343   0.000000   0.000000   0.000000   0.000000  \n",
       "58344   0.000000   0.000000   0.000000   0.000000  \n",
       "58345   1.569729   1.521757   1.339152   0.808748  \n",
       "58346   0.000000   0.000000   0.000000   0.000000  \n",
       "\n",
       "[58347 rows x 94 columns]"
      ]
     },
     "execution_count": 68,
     "metadata": {},
     "output_type": "execute_result"
    }
   ],
   "source": [
    "data_b"
   ]
  },
  {
   "cell_type": "code",
   "execution_count": 141,
   "id": "989d9aab",
   "metadata": {},
   "outputs": [],
   "source": [
    "X_b_t = data_b.iloc[:, 3:]\n",
    "X_b_m = data_m.iloc[:, 3:]\n",
    "X_b_m2 = data_m2.iloc[:, 3:]"
   ]
  },
  {
   "cell_type": "code",
   "execution_count": 142,
   "id": "c801372d",
   "metadata": {},
   "outputs": [
    {
     "data": {
      "text/plain": [
       "(272, 58347)"
      ]
     },
     "execution_count": 142,
     "metadata": {},
     "output_type": "execute_result"
    }
   ],
   "source": [
    "X = np.concatenate((X_b_t, X_b_m, X_b_m2), axis=1).T\n",
    "X.shape"
   ]
  },
  {
   "cell_type": "code",
   "execution_count": 143,
   "id": "421c8396",
   "metadata": {},
   "outputs": [],
   "source": [
    "from sklearn.feature_selection import VarianceThreshold"
   ]
  },
  {
   "cell_type": "code",
   "execution_count": 144,
   "id": "63d3fd31",
   "metadata": {},
   "outputs": [
    {
     "data": {
      "text/plain": [
       "(272, 25641)"
      ]
     },
     "execution_count": 144,
     "metadata": {},
     "output_type": "execute_result"
    }
   ],
   "source": [
    "vt = VarianceThreshold(0.2)\n",
    "X_vt = vt.fit_transform(X)\n",
    "X_vt.shape"
   ]
  },
  {
   "cell_type": "code",
   "execution_count": 145,
   "id": "da2695cc",
   "metadata": {},
   "outputs": [],
   "source": [
    "y = np.array(([0] * X_b_t.shape[1]) + ([1] * X_b_m.shape[1]) + ([2] * X_b_m2.shape[1]))\n",
    "genes = data_b.iloc[:, 0].values\n",
    "genes_vt = genes[vt.get_support()]"
   ]
  },
  {
   "cell_type": "code",
   "execution_count": 146,
   "id": "f875a8c9",
   "metadata": {},
   "outputs": [],
   "source": [
    "skb = SelectKBest(score_func=f_classif, k=5)\n",
    "X_skb = skb.fit_transform(X_vt, y)"
   ]
  },
  {
   "cell_type": "code",
   "execution_count": 147,
   "id": "e33b20ee",
   "metadata": {},
   "outputs": [],
   "source": [
    "remaining_cols = genes_vt[skb.get_support()]\n",
    "skb_df = pd.DataFrame(data=X_skb, columns=remaining_cols)"
   ]
  },
  {
   "cell_type": "code",
   "execution_count": 148,
   "id": "75728c24",
   "metadata": {},
   "outputs": [
    {
     "data": {
      "text/html": [
       "<div>\n",
       "<style scoped>\n",
       "    .dataframe tbody tr th:only-of-type {\n",
       "        vertical-align: middle;\n",
       "    }\n",
       "\n",
       "    .dataframe tbody tr th {\n",
       "        vertical-align: top;\n",
       "    }\n",
       "\n",
       "    .dataframe thead th {\n",
       "        text-align: right;\n",
       "    }\n",
       "</style>\n",
       "<table border=\"1\" class=\"dataframe\">\n",
       "  <thead>\n",
       "    <tr style=\"text-align: right;\">\n",
       "      <th></th>\n",
       "      <th>ENSG00000072858.10</th>\n",
       "      <th>ENSG00000095585.16</th>\n",
       "      <th>ENSG00000148737.16</th>\n",
       "      <th>ENSG00000150995.18</th>\n",
       "      <th>ENSG00000161405.16</th>\n",
       "    </tr>\n",
       "  </thead>\n",
       "  <tbody>\n",
       "    <tr>\n",
       "      <th>0</th>\n",
       "      <td>90.124926</td>\n",
       "      <td>310.360500</td>\n",
       "      <td>1.658771</td>\n",
       "      <td>223.909293</td>\n",
       "      <td>311.645820</td>\n",
       "    </tr>\n",
       "    <tr>\n",
       "      <th>1</th>\n",
       "      <td>88.120597</td>\n",
       "      <td>302.614930</td>\n",
       "      <td>1.528825</td>\n",
       "      <td>217.341783</td>\n",
       "      <td>304.880317</td>\n",
       "    </tr>\n",
       "    <tr>\n",
       "      <th>2</th>\n",
       "      <td>87.934619</td>\n",
       "      <td>296.857096</td>\n",
       "      <td>1.408593</td>\n",
       "      <td>208.347533</td>\n",
       "      <td>304.430536</td>\n",
       "    </tr>\n",
       "    <tr>\n",
       "      <th>3</th>\n",
       "      <td>86.980905</td>\n",
       "      <td>296.555714</td>\n",
       "      <td>1.352577</td>\n",
       "      <td>204.396344</td>\n",
       "      <td>303.888163</td>\n",
       "    </tr>\n",
       "    <tr>\n",
       "      <th>4</th>\n",
       "      <td>82.134028</td>\n",
       "      <td>292.983628</td>\n",
       "      <td>1.174357</td>\n",
       "      <td>195.902012</td>\n",
       "      <td>299.347232</td>\n",
       "    </tr>\n",
       "    <tr>\n",
       "      <th>...</th>\n",
       "      <td>...</td>\n",
       "      <td>...</td>\n",
       "      <td>...</td>\n",
       "      <td>...</td>\n",
       "      <td>...</td>\n",
       "    </tr>\n",
       "    <tr>\n",
       "      <th>267</th>\n",
       "      <td>0.528646</td>\n",
       "      <td>0.000000</td>\n",
       "      <td>289.654677</td>\n",
       "      <td>7.701824</td>\n",
       "      <td>0.421698</td>\n",
       "    </tr>\n",
       "    <tr>\n",
       "      <th>268</th>\n",
       "      <td>0.484217</td>\n",
       "      <td>0.000000</td>\n",
       "      <td>289.652666</td>\n",
       "      <td>7.595151</td>\n",
       "      <td>0.420667</td>\n",
       "    </tr>\n",
       "    <tr>\n",
       "      <th>269</th>\n",
       "      <td>0.446313</td>\n",
       "      <td>0.000000</td>\n",
       "      <td>282.568249</td>\n",
       "      <td>7.135626</td>\n",
       "      <td>0.391006</td>\n",
       "    </tr>\n",
       "    <tr>\n",
       "      <th>270</th>\n",
       "      <td>0.442240</td>\n",
       "      <td>0.000000</td>\n",
       "      <td>271.343713</td>\n",
       "      <td>7.042605</td>\n",
       "      <td>0.360155</td>\n",
       "    </tr>\n",
       "    <tr>\n",
       "      <th>271</th>\n",
       "      <td>0.423915</td>\n",
       "      <td>0.000000</td>\n",
       "      <td>242.856935</td>\n",
       "      <td>5.444900</td>\n",
       "      <td>0.338081</td>\n",
       "    </tr>\n",
       "  </tbody>\n",
       "</table>\n",
       "<p>272 rows × 5 columns</p>\n",
       "</div>"
      ],
      "text/plain": [
       "     ENSG00000072858.10  ENSG00000095585.16  ENSG00000148737.16  \\\n",
       "0             90.124926          310.360500            1.658771   \n",
       "1             88.120597          302.614930            1.528825   \n",
       "2             87.934619          296.857096            1.408593   \n",
       "3             86.980905          296.555714            1.352577   \n",
       "4             82.134028          292.983628            1.174357   \n",
       "..                  ...                 ...                 ...   \n",
       "267            0.528646            0.000000          289.654677   \n",
       "268            0.484217            0.000000          289.652666   \n",
       "269            0.446313            0.000000          282.568249   \n",
       "270            0.442240            0.000000          271.343713   \n",
       "271            0.423915            0.000000          242.856935   \n",
       "\n",
       "     ENSG00000150995.18  ENSG00000161405.16  \n",
       "0            223.909293          311.645820  \n",
       "1            217.341783          304.880317  \n",
       "2            208.347533          304.430536  \n",
       "3            204.396344          303.888163  \n",
       "4            195.902012          299.347232  \n",
       "..                  ...                 ...  \n",
       "267            7.701824            0.421698  \n",
       "268            7.595151            0.420667  \n",
       "269            7.135626            0.391006  \n",
       "270            7.042605            0.360155  \n",
       "271            5.444900            0.338081  \n",
       "\n",
       "[272 rows x 5 columns]"
      ]
     },
     "execution_count": 148,
     "metadata": {},
     "output_type": "execute_result"
    }
   ],
   "source": [
    "skb_df"
   ]
  },
  {
   "cell_type": "code",
   "execution_count": 149,
   "id": "79cc68f3",
   "metadata": {},
   "outputs": [],
   "source": [
    "from sklearn.model_selection import train_test_split"
   ]
  },
  {
   "cell_type": "code",
   "execution_count": 150,
   "id": "87377136",
   "metadata": {},
   "outputs": [],
   "source": [
    "X_train, X_test, y_train, y_test = train_test_split(X_skb, y, test_size=0.3)\n",
    "tree = DecisionTreeClassifier()\n",
    "_ = tree.fit(X_train, y_train)"
   ]
  },
  {
   "cell_type": "code",
   "execution_count": 151,
   "id": "744e1fb5",
   "metadata": {},
   "outputs": [
    {
     "data": {
      "text/plain": [
       "1.0"
      ]
     },
     "execution_count": 151,
     "metadata": {},
     "output_type": "execute_result"
    }
   ],
   "source": [
    "tree.score(X_train, y_train)"
   ]
  },
  {
   "cell_type": "code",
   "execution_count": 152,
   "id": "73c34424",
   "metadata": {},
   "outputs": [
    {
     "data": {
      "text/plain": [
       "1.0"
      ]
     },
     "execution_count": 152,
     "metadata": {},
     "output_type": "execute_result"
    }
   ],
   "source": [
    "tree.score(X_test, y_test)"
   ]
  },
  {
   "cell_type": "code",
   "execution_count": 153,
   "id": "970ee937",
   "metadata": {},
   "outputs": [
    {
     "data": {
      "text/plain": [
       "[Text(0.6, 0.8333333333333334, 'ENSG00000150995.18 <= 81.506\\ngini = 0.667\\nsamples = 190\\nvalue = [63, 65, 62]'),\n",
       " Text(0.4, 0.5, 'ENSG00000148737.16 <= 151.387\\ngini = 0.5\\nsamples = 127\\nvalue = [0, 65, 62]'),\n",
       " Text(0.2, 0.16666666666666666, 'gini = 0.0\\nsamples = 65\\nvalue = [0, 65, 0]'),\n",
       " Text(0.6, 0.16666666666666666, 'gini = 0.0\\nsamples = 62\\nvalue = [0, 0, 62]'),\n",
       " Text(0.8, 0.5, 'gini = 0.0\\nsamples = 63\\nvalue = [63, 0, 0]')]"
      ]
     },
     "execution_count": 153,
     "metadata": {},
     "output_type": "execute_result"
    },
    {
     "data": {
      "image/png": "[encoded data removed]",
      "text/plain": [
       "<Figure size 432x288 with 1 Axes>"
      ]
     },
     "metadata": {
      "needs_background": "light"
     },
     "output_type": "display_data"
    }
   ],
   "source": [
    "plot_tree(tree, feature_names=remaining_cols)"
   ]
  },
  {
   "cell_type": "code",
   "execution_count": 164,
   "id": "026190dd",
   "metadata": {},
   "outputs": [
    {
     "data": {
      "text/plain": [
       "<matplotlib.collections.PathCollection at 0x120c36bf0>"
      ]
     },
     "execution_count": 164,
     "metadata": {},
     "output_type": "execute_result"
    },
    {
     "data": {
      "image/png": "[encoded data removed]",
      "text/plain": [
       "<Figure size 432x288 with 1 Axes>"
      ]
     },
     "metadata": {
      "needs_background": "light"
     },
     "output_type": "display_data"
    }
   ],
   "source": [
    "plt.scatter(X_sfs[:, 0], X_sfs[:, 1], c=y)"
   ]
  },
  {
   "cell_type": "code",
   "execution_count": 156,
   "id": "7ee74fc2",
   "metadata": {},
   "outputs": [],
   "source": [
    "tree = DecisionTreeClassifier(max_depth=2)\n",
    "sfs = SequentialFeatureSelector(estimator=tree, n_features_to_select=2, direction='forward')\n",
    "X_sfs = sfs.fit_transform(X_vt, y)"
   ]
  },
  {
   "cell_type": "code",
   "execution_count": 159,
   "id": "004355f4",
   "metadata": {},
   "outputs": [
    {
     "data": {
      "text/plain": [
       "1.0"
      ]
     },
     "execution_count": 159,
     "metadata": {},
     "output_type": "execute_result"
    }
   ],
   "source": [
    "X_train, X_test, y_train, y_test = train_test_split(X_sfs, y, test_size=0.3)\n",
    "tree.fit(X_train, y_train)\n",
    "tree.score(X_test, y_test)"
   ]
  },
  {
   "cell_type": "code",
   "execution_count": 163,
   "id": "b7ccc958",
   "metadata": {},
   "outputs": [
    {
     "data": {
      "text/plain": [
       "array(['ENSG00000000419.12', 'ENSG00000029725.16'], dtype=object)"
      ]
     },
     "execution_count": 163,
     "metadata": {},
     "output_type": "execute_result"
    }
   ],
   "source": [
    "genes_vt[sfs.get_support()]"
   ]
  },
  {
   "cell_type": "code",
   "execution_count": 166,
   "id": "c28f8ff7",
   "metadata": {},
   "outputs": [
    {
     "data": {
      "text/plain": [
       "[Text(0.4, 0.8333333333333334, 'ENSG00000095585.16 <= 43.376\\ngini = 0.666\\nsamples = 190\\nvalue = [60, 66, 64]'),\n",
       " Text(0.2, 0.5, 'gini = 0.0\\nsamples = 66\\nvalue = [0, 66, 0]'),\n",
       " Text(0.6, 0.5, 'ENSG00000095585.16 <= 125.38\\ngini = 0.499\\nsamples = 124\\nvalue = [60, 0, 64]'),\n",
       " Text(0.4, 0.16666666666666666, 'gini = 0.0\\nsamples = 64\\nvalue = [0, 0, 64]'),\n",
       " Text(0.8, 0.16666666666666666, 'gini = 0.0\\nsamples = 60\\nvalue = [60, 0, 0]')]"
      ]
     },
     "execution_count": 166,
     "metadata": {},
     "output_type": "execute_result"
    },
    {
     "data": {
      "image/png": "[encoded data removed]",
      "text/plain": [
       "<Figure size 432x288 with 1 Axes>"
      ]
     },
     "metadata": {
      "needs_background": "light"
     },
     "output_type": "display_data"
    }
   ],
   "source": [
    "plot_tree(tree, feature_names=remaining_cols)"
   ]
  }
 ],
 "metadata": {
  "kernelspec": {
   "display_name": "Python 3 (ipykernel)",
   "language": "python",
   "name": "python3"
  },
  "language_info": {
   "codemirror_mode": {
    "name": "ipython",
    "version": 3
   },
   "file_extension": ".py",
   "mimetype": "text/x-python",
   "name": "python",
   "nbconvert_exporter": "python",
   "pygments_lexer": "ipython3",
   "version": "3.10.4"
  }
 },
 "nbformat": 4,
 "nbformat_minor": 5
}
