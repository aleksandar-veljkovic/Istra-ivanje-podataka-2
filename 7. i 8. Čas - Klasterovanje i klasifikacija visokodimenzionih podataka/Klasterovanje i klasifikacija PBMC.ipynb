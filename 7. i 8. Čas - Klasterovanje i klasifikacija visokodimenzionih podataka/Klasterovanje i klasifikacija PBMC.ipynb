{
 "cells": [
  {
   "cell_type": "markdown",
   "id": "f796d978",
   "metadata": {},
   "source": [
    "# Klasterovanje"
   ]
  },
  {
   "cell_type": "code",
   "execution_count": 1,
   "id": "53181bff",
   "metadata": {},
   "outputs": [],
   "source": [
    "import re\n",
    "import numpy as np\n",
    "import pandas as pd\n",
    "import matplotlib.pyplot as plt\n",
    "from scipy.cluster.hierarchy import dendrogram\n",
    "from sklearn.feature_selection import VarianceThreshold\n",
    "from sklearn.metrics import silhouette_score, homogeneity_score\n",
    "from sklearn.neighbors import kneighbors_graph\n",
    "from sklearn.feature_selection import f_classif, SelectKBest, SequentialFeatureSelector\n",
    "from sklearn.metrics import confusion_matrix, silhouette_score, homogeneity_score\n",
    "from sklearn.cluster import KMeans, SpectralClustering, AgglomerativeClustering\n",
    "from sklearn.svm import SVC\n",
    "from sklearn.decomposition import PCA"
   ]
  },
  {
   "cell_type": "markdown",
   "id": "600707a8",
   "metadata": {},
   "source": [
    "Učitavanje podataka"
   ]
  },
  {
   "cell_type": "code",
   "execution_count": null,
   "id": "439c90e9",
   "metadata": {},
   "outputs": [],
   "source": [
    "# Dodati odgovarajući folder sa podacima\n",
    "# data = pd.read_csv('pbmc_za_vezbu/podaci.csv', header=None)"
   ]
  },
  {
   "cell_type": "markdown",
   "id": "754b855b",
   "metadata": {},
   "source": [
    "Izdvajanje naziva klasa"
   ]
  },
  {
   "cell_type": "code",
   "execution_count": null,
   "id": "201f19e2",
   "metadata": {},
   "outputs": [],
   "source": [
    "# Regularnim izrazom se pronalaze i uklanjaju sufiksi _1 _2, ...\n",
    "klase = data.iloc[:, 0].apply(lambda x: re.sub(r'_\\d+$', '', x))"
   ]
  },
  {
   "cell_type": "markdown",
   "id": "ae073ee4",
   "metadata": {},
   "source": [
    "Upisivanje izdvojenih klasa u CSV fajl"
   ]
  },
  {
   "cell_type": "code",
   "execution_count": null,
   "id": "f7379386",
   "metadata": {},
   "outputs": [],
   "source": [
    "klase.to_csv('klase.csv', index=False)"
   ]
  },
  {
   "cell_type": "markdown",
   "id": "e9c51169",
   "metadata": {},
   "source": [
    "Dodela numerickih oznaka klasama i grupisanje prema tipovima ćelija"
   ]
  },
  {
   "cell_type": "code",
   "execution_count": null,
   "id": "024b18f6",
   "metadata": {},
   "outputs": [],
   "source": [
    "oznake_klasa = {\n",
    "\"Klasa_1\": 0,    \n",
    "\"Klasa_2\": 1,   \n",
    "\"Klasa_3\": 2,\n",
    "\"Klasa_4\": 3, \n",
    "\"Klasa_5\": 4,\n",
    "\"Klasa_6\": 5,    \n",
    "\"Klasa_7\": 6,\n",
    "\"Klasa_8\": 7,\n",
    "\"Klasa_9\": 8,\n",
    "\"Klasa_10\": 9,\n",
    "\"Klasa_11\": 10,\n",
    "\"Klasa_12\": 11,\n",
    "\"Klasa_13\": 12,\n",
    "\"Klasa_14\": 13,\n",
    "\"Klasa_15\": 14,\n",
    "}\n",
    "\n",
    "oznake_klasa_grupisane = {\n",
    "\"Klasa_1\": 1,    \n",
    "\"Klasa_2\": 0,   \n",
    "\"Klasa_3\": 2,\n",
    "\"Klasa_4\": 3, \n",
    "\"Klasa_5\": 3,\n",
    "\"Klasa_6\": 4,    \n",
    "\"Klasa_7\": 4,\n",
    "\"Klasa_8\": 5,\n",
    "\"Klasa_9\": 0,\n",
    "\"Klasa_10\": 0,\n",
    "\"Klasa_11\": 0,\n",
    "\"Klasa_12\": 6,\n",
    "\"Klasa_13\": 6,\n",
    "\"Klasa_14\": 7,\n",
    "\"Klasa_15\": 7,\n",
    "}\n",
    "\n",
    "klase = klase.replace(oznake_klasa)"
   ]
  },
  {
   "cell_type": "markdown",
   "id": "fa5912d3",
   "metadata": {},
   "source": [
    "Analiza varijansi atributa"
   ]
  },
  {
   "cell_type": "code",
   "execution_count": null,
   "id": "1f0f1b10",
   "metadata": {},
   "outputs": [],
   "source": [
    "variances = X.var()\n",
    "print(variances)\n",
    "print(f'Mean: {variances.mean()}')\n",
    "print(f'Median: {variances.median()}')\n",
    "print(f'Min: {variances.min()}')\n",
    "print(f'Max: {variances.max()}')"
   ]
  },
  {
   "cell_type": "markdown",
   "id": "5c6ad1be",
   "metadata": {},
   "source": [
    "Uklanjanje atributa sa varijansom ispod zadatog praga"
   ]
  },
  {
   "cell_type": "code",
   "execution_count": null,
   "id": "31f868b4",
   "metadata": {},
   "outputs": [],
   "source": [
    "X = data.iloc[:, 1:]"
   ]
  },
  {
   "cell_type": "code",
   "execution_count": null,
   "id": "b4efd537",
   "metadata": {},
   "outputs": [],
   "source": [
    "X.shape"
   ]
  },
  {
   "cell_type": "code",
   "execution_count": null,
   "id": "4fce6bf7",
   "metadata": {},
   "outputs": [],
   "source": [
    "vt = VarianceThreshold(threshold=1)\n",
    "X_vt_1 = vt.fit_transform(X)"
   ]
  },
  {
   "cell_type": "code",
   "execution_count": null,
   "id": "ab4b9a91",
   "metadata": {},
   "outputs": [],
   "source": [
    "X_vt_1.shape"
   ]
  },
  {
   "cell_type": "markdown",
   "id": "969e2231",
   "metadata": {},
   "source": [
    "Upisivanje transformisanih podataka u fajl"
   ]
  },
  {
   "cell_type": "code",
   "execution_count": null,
   "id": "2326c722",
   "metadata": {},
   "outputs": [],
   "source": [
    "X_vt_1_df = pd.DataFrame(data=X_vt_1)\n",
    "X_vt_1_df.to_csv('X_vt_1.csv', index=False)"
   ]
  },
  {
   "cell_type": "markdown",
   "id": "c6ad9f2d",
   "metadata": {},
   "source": [
    "Analiza varijanse po redovima"
   ]
  },
  {
   "cell_type": "code",
   "execution_count": null,
   "id": "6598ae0e",
   "metadata": {},
   "outputs": [],
   "source": [
    "X_vt_1.T.var().min()"
   ]
  },
  {
   "cell_type": "markdown",
   "id": "cc7b8037",
   "metadata": {},
   "source": [
    "Analiza PCA komponenti i objasnjene varijanse"
   ]
  },
  {
   "cell_type": "code",
   "execution_count": null,
   "id": "25a638c9",
   "metadata": {},
   "outputs": [],
   "source": [
    "pca = PCA()\n",
    "X_vt_1_pca = pca.fit_transform(X_vt_1)"
   ]
  },
  {
   "cell_type": "code",
   "execution_count": null,
   "id": "631adb34",
   "metadata": {},
   "outputs": [],
   "source": [
    "pca.explained_variance_ratio_[:50].sum()"
   ]
  },
  {
   "cell_type": "markdown",
   "id": "6c8d3ba7",
   "metadata": {},
   "source": [
    "Grafik dobijen pomoću PCA komponenti (obratiti pažnju na lošu vrednost objašnjene varijanse)"
   ]
  },
  {
   "cell_type": "code",
   "execution_count": null,
   "id": "eb6dcbda",
   "metadata": {},
   "outputs": [],
   "source": [
    "plt.scatter(X_vt_1_pca[:, 0], X_vt_1_pca[:, 1], c=klase.values)"
   ]
  },
  {
   "cell_type": "markdown",
   "id": "b8dc5c20",
   "metadata": {},
   "source": [
    "Konstrukcija grafa najbližih suseda na osnovu kosinusnog rastojanja"
   ]
  },
  {
   "cell_type": "code",
   "execution_count": null,
   "id": "6047bc7a",
   "metadata": {},
   "outputs": [],
   "source": [
    "# Testirati drugačije načine konstrukcije grafa\n",
    "X_vt_1_graph = kneighbors_graph(\n",
    "    X_vt_1, \n",
    "    n_neighbors=150, \n",
    "    mode='distance', \n",
    "    metric='cosine',\n",
    "    n_jobs=-1\n",
    ")\n",
    "\n",
    "X_vt_1_graph_map = kneighbors_graph(\n",
    "    X_vt_1, \n",
    "    n_neighbors=150, \n",
    "    mode='connectivity', \n",
    "    metric='cosine',\n",
    "    n_jobs=-1\n",
    ")"
   ]
  },
  {
   "cell_type": "code",
   "execution_count": null,
   "id": "f2569920",
   "metadata": {},
   "outputs": [],
   "source": [
    "X_vt_1_graph_arr = X_vt_1_graph.toarray()\n",
    "X_vt_1_graph_map_arr = X_vt_1_graph_map.toarray()\n",
    "X_vt_1_graph_full = X_vt_1_graph_arr\n",
    "\n",
    "X_vt_1_graph_full = 1.0 / (1.0 + X_vt_1_graph_arr)"
   ]
  },
  {
   "cell_type": "code",
   "execution_count": null,
   "id": "5ea632e1",
   "metadata": {},
   "outputs": [],
   "source": [
    "X_vt_1_graph_full[X_vt_1_graph_map_arr == 0] = 0"
   ]
  },
  {
   "cell_type": "markdown",
   "id": "92ea221d",
   "metadata": {},
   "source": [
    "Pronalaženje klastera spektralnim klasterovanjem"
   ]
  },
  {
   "cell_type": "code",
   "execution_count": null,
   "id": "88d29085",
   "metadata": {},
   "outputs": [],
   "source": [
    "sc = SpectralClustering(\n",
    "    n_clusters=5, \n",
    "    affinity='precomputed', \n",
    "    n_components=2\n",
    ")\n",
    "sc.fit(X_vt_1_graph_full)"
   ]
  },
  {
   "cell_type": "code",
   "execution_count": null,
   "id": "cbd82616",
   "metadata": {},
   "outputs": [],
   "source": [
    "plt.scatter(X_vt_1_pca[:, 0], X_vt_1_pca[:, 1], c=sc.labels_)"
   ]
  },
  {
   "cell_type": "markdown",
   "id": "354637f7",
   "metadata": {},
   "source": [
    "Procena kvaliteta klasterovanja"
   ]
  },
  {
   "cell_type": "code",
   "execution_count": null,
   "id": "dd4a9928",
   "metadata": {},
   "outputs": [],
   "source": [
    "# Silueta\n",
    "silhouette_score(X_vt_1, labels=sc.labels_, metric='cosine')"
   ]
  },
  {
   "cell_type": "code",
   "execution_count": null,
   "id": "ee53da46",
   "metadata": {},
   "outputs": [],
   "source": [
    "# Homogenost\n",
    "homogeneity_score(klase.values.ravel(), sc.labels_)"
   ]
  },
  {
   "cell_type": "markdown",
   "id": "0e96da9a",
   "metadata": {},
   "source": [
    "Pronalaženje klastera hijerarhijskim klasterovanjem"
   ]
  },
  {
   "cell_type": "code",
   "execution_count": null,
   "id": "e0a9d4b6",
   "metadata": {},
   "outputs": [],
   "source": [
    "ac = AgglomerativeClustering(\n",
    "    n_clusters=15, \n",
    "    affinity='cosine', \n",
    "    linkage='average'\n",
    ")\n",
    "fitted_model = ac.fit(X_vt_1)"
   ]
  },
  {
   "cell_type": "code",
   "execution_count": null,
   "id": "900896bb",
   "metadata": {},
   "outputs": [],
   "source": [
    "plt.scatter(X_vt_1_pca[:, 0], X_vt_1_pca[:, 1], c=ac.labels_)"
   ]
  },
  {
   "cell_type": "markdown",
   "id": "d3c75aa7",
   "metadata": {},
   "source": [
    "Procena kvaliteta klasterovanja"
   ]
  },
  {
   "cell_type": "code",
   "execution_count": null,
   "id": "467c6679",
   "metadata": {},
   "outputs": [],
   "source": [
    "# Silueta\n",
    "silhouette_score(X_vt_1, labels=ac.labels_, metric='cosine')"
   ]
  },
  {
   "cell_type": "code",
   "execution_count": null,
   "id": "98abb346",
   "metadata": {},
   "outputs": [],
   "source": [
    "# Homogenost\n",
    "homogeneity_score(klase.values.ravel(), ac.labels_)"
   ]
  },
  {
   "cell_type": "markdown",
   "id": "d213ed8e",
   "metadata": {},
   "source": [
    "# Klasifikacija"
   ]
  },
  {
   "cell_type": "code",
   "execution_count": null,
   "id": "db547e74",
   "metadata": {},
   "outputs": [],
   "source": [
    "y = klase\n",
    "\n",
    "# Testirati pomoću grupisanih oznaka klasa\n",
    "# i isključivanjem podataka iz \"ambiguous\" klase\n",
    "\n",
    "# y_filter = y['0'] != 1\n",
    "# y = y[y_filter]\n",
    "# X = data.iloc[:, 1:][y_filter]"
   ]
  },
  {
   "cell_type": "markdown",
   "id": "b1b4a8b6",
   "metadata": {},
   "source": [
    "Feature selection pomoću <i>Relief</i> algoritma"
   ]
  },
  {
   "cell_type": "code",
   "execution_count": null,
   "id": "cc755232",
   "metadata": {},
   "outputs": [],
   "source": [
    "# r = relief.Relief(\n",
    "#     n_features=100\n",
    "# )\n",
    "\n",
    "# X_vt_1_r_100 = r.fit_transform(\n",
    "#     X_vt_1.values,\n",
    "#     y.values.ravel()\n",
    "# )"
   ]
  },
  {
   "cell_type": "markdown",
   "id": "83126186",
   "metadata": {},
   "source": [
    "Izdvajanje $k$ najperspektivnijih atributa"
   ]
  },
  {
   "cell_type": "code",
   "execution_count": null,
   "id": "54058721",
   "metadata": {},
   "outputs": [],
   "source": [
    "# Testirati različite parametre k\n",
    "skb = SelectKBest(score_func=f_classif, k=20)\n",
    "X_vt_1_skb_20 = skb.fit_transform(X, y.values.ravel())"
   ]
  },
  {
   "cell_type": "markdown",
   "id": "224e2ba1",
   "metadata": {},
   "source": [
    "Klasifikacija na osnovu odabranih atributa pomoću SVM klasifikatora (testirati druge klasifikatora, npr. <i>DecisionTreeClassifier</i> sa različitim parametrima)"
   ]
  },
  {
   "cell_type": "code",
   "execution_count": null,
   "id": "46313010",
   "metadata": {},
   "outputs": [],
   "source": [
    "X_train, X_test, y_train, y_test = train_test_split(X_vt_1_skb_10, y.values.ravel(), test_size=0.3)\n",
    "\n",
    "svm = SVC(C=1.0, kernel='rbf')\n",
    "svm.fit(X_train, y_train)"
   ]
  },
  {
   "cell_type": "markdown",
   "id": "2f7ebeb8",
   "metadata": {},
   "source": [
    "Evaluacija modela na trening i test podacima"
   ]
  },
  {
   "cell_type": "code",
   "execution_count": null,
   "id": "f5b5a972",
   "metadata": {},
   "outputs": [],
   "source": [
    "svm.score(X_train, X_test)"
   ]
  },
  {
   "cell_type": "code",
   "execution_count": null,
   "id": "c7a70f06",
   "metadata": {},
   "outputs": [],
   "source": [
    "svm.score(X_test, y_test)"
   ]
  },
  {
   "cell_type": "code",
   "execution_count": null,
   "id": "1059b34d",
   "metadata": {},
   "outputs": [],
   "source": [
    "# Matrica konfuzije nad test podacima\n",
    "y_pred = svm.predict(X_test)\n",
    "cm = confusion_matrix(y_test, y_pred)\n",
    "print(cm)"
   ]
  },
  {
   "cell_type": "markdown",
   "id": "2f998a97",
   "metadata": {},
   "source": [
    "Vizualizacija rezultata pomocu PCA koordinata"
   ]
  },
  {
   "cell_type": "code",
   "execution_count": null,
   "id": "90cdb3b9",
   "metadata": {},
   "outputs": [],
   "source": [
    "pca = PCA()\n",
    "X_vt_1_skb_20_pca = pca.fit_transform(X_vt_1_skb_20)"
   ]
  },
  {
   "cell_type": "code",
   "execution_count": null,
   "id": "53d42890",
   "metadata": {},
   "outputs": [],
   "source": [
    "pca.explained_variance_ratio_[:2].sum()"
   ]
  },
  {
   "cell_type": "code",
   "execution_count": null,
   "id": "71bc6163",
   "metadata": {},
   "outputs": [],
   "source": [
    "# Originalne klase\n",
    "_ = plt.scatter(X_vt_1_skb_20_pca[:, 0], X_vt_1_skb_20_pca[:, 1], c=y.values.ravel())"
   ]
  },
  {
   "cell_type": "code",
   "execution_count": null,
   "id": "b1209768",
   "metadata": {},
   "outputs": [],
   "source": [
    "# Predviđene klase\n",
    "_ = plt.scatter(X_vt_1_skb_20_pca[:, 0], X_vt_1_skb_20_pca[:, 1], c=y_pred)"
   ]
  },
  {
   "cell_type": "markdown",
   "id": "7bb25804",
   "metadata": {},
   "source": [
    "# Klasterovanje na osnovu atributa izdvojenih posredstvom poznavanja oznaka klasa"
   ]
  },
  {
   "cell_type": "code",
   "execution_count": null,
   "id": "6cf7f410",
   "metadata": {},
   "outputs": [],
   "source": [
    "# Kmeans\n",
    "km = KMeans(n_clusters=5)\n",
    "km.fit(X_vt_1_skb_20)"
   ]
  },
  {
   "cell_type": "code",
   "execution_count": null,
   "id": "5b731bff",
   "metadata": {},
   "outputs": [],
   "source": [
    "_ = plt.scatter(X_vt_1_skb_20_pca[:, 0], X_vt_1_skb_20_pca[:, 1], c=km.labels_)"
   ]
  },
  {
   "cell_type": "code",
   "execution_count": null,
   "id": "b31943e5",
   "metadata": {},
   "outputs": [],
   "source": [
    "# Silueta\n",
    "silhouette_score(X_vt_1_skb_10, km.labels_)"
   ]
  },
  {
   "cell_type": "code",
   "execution_count": null,
   "id": "c509f88c",
   "metadata": {},
   "outputs": [],
   "source": [
    "# Homogenost\n",
    "homogeneity_score(y.values.ravel(), km.labels_)"
   ]
  },
  {
   "cell_type": "code",
   "execution_count": null,
   "id": "8626c4ab",
   "metadata": {},
   "outputs": [],
   "source": [
    "# Spektralno klasterovanje\n",
    "sc = SpectralClustering(n_clusters=5)\n",
    "sc.fit(X_vt_1_skb_20)"
   ]
  },
  {
   "cell_type": "code",
   "execution_count": null,
   "id": "01679d15",
   "metadata": {},
   "outputs": [],
   "source": [
    "_ = plt.scatter(X_vt_1_skb_20_pca[:, 0], X_vt_1_skb_20_pca[:, 1], c=sc.labels_)"
   ]
  },
  {
   "cell_type": "code",
   "execution_count": null,
   "id": "4eedda77",
   "metadata": {},
   "outputs": [],
   "source": [
    "# Silueta\n",
    "silhouette_score(X_vt_1_skb_10, sc.labels_)"
   ]
  },
  {
   "cell_type": "code",
   "execution_count": null,
   "id": "3f88f31c",
   "metadata": {},
   "outputs": [],
   "source": [
    "# Homogenost\n",
    "homogeneity_score(y.values.ravel(), sc.labels_)"
   ]
  },
  {
   "cell_type": "code",
   "execution_count": null,
   "id": "e7bb8def",
   "metadata": {},
   "outputs": [],
   "source": [
    "# Hijerarhijsko klasterovanje\n",
    "ac = AgglomerativeClustering(n_clusters=5, linkage='ward')\n",
    "ac.fit(X_vt_1_skb_20)"
   ]
  },
  {
   "cell_type": "code",
   "execution_count": null,
   "id": "1f3bfeae",
   "metadata": {},
   "outputs": [],
   "source": [
    "_ = plt.scatter(X_vt_1_skb_20_pca[:, 0], X_vt_1_skb_20_pca[:, 1], c=ac.labels_)"
   ]
  },
  {
   "cell_type": "code",
   "execution_count": null,
   "id": "80c1f9a0",
   "metadata": {},
   "outputs": [],
   "source": [
    "# Silueta\n",
    "silhouette_score(X_vt_1_skb_10, ac.labels_)"
   ]
  },
  {
   "cell_type": "code",
   "execution_count": null,
   "id": "d470f4d8",
   "metadata": {},
   "outputs": [],
   "source": [
    "# Homogenost\n",
    "homogeneity_score(y.values.ravel(), ac.labels_)"
   ]
  },
  {
   "cell_type": "code",
   "execution_count": null,
   "id": "987a4aa1",
   "metadata": {},
   "outputs": [],
   "source": [
    "# Crtanje dendrograma\n",
    "def plot_dendrogram(model, **kwargs):\n",
    "    counts = np.zeros(model.children_.shape[0])\n",
    "    n_samples = len(model.labels_)\n",
    "    for i, merge in enumerate(model.children_):\n",
    "        current_count = 0\n",
    "        for child_idx in merge:\n",
    "            if child_idx < n_samples:\n",
    "                current_count += 1  # leaf node\n",
    "            else:\n",
    "                current_count += counts[child_idx - n_samples]\n",
    "        counts[i] = current_count\n",
    "\n",
    "    linkage_matrix = np.column_stack(\n",
    "        [model.children_, model.distances_, counts]\n",
    "    ).astype(float)\n",
    "\n",
    "    # Plot the corresponding dendrogram\n",
    "    dendrogram(linkage_matrix, **kwargs)"
   ]
  },
  {
   "cell_type": "code",
   "execution_count": null,
   "id": "d62a4396",
   "metadata": {},
   "outputs": [],
   "source": [
    "# Treniranje kompletnog modela\n",
    "ac_full = AgglomerativeClustering(\n",
    "    n_clusters=None, \n",
    "    linkage='ward', \n",
    "    distance_threshold=0\n",
    ")\n",
    "ac_full_trained = ac_full.fit(X_vt_1_skb_10)"
   ]
  },
  {
   "cell_type": "code",
   "execution_count": null,
   "id": "2410fb97",
   "metadata": {},
   "outputs": [],
   "source": [
    "plot_dendrogram(ac_full_trained, truncate_mode=\"level\", p=10)"
   ]
  }
 ],
 "metadata": {
  "kernelspec": {
   "display_name": "Python 3 (ipykernel)",
   "language": "python",
   "name": "python3"
  },
  "language_info": {
   "codemirror_mode": {
    "name": "ipython",
    "version": 3
   },
   "file_extension": ".py",
   "mimetype": "text/x-python",
   "name": "python",
   "nbconvert_exporter": "python",
   "pygments_lexer": "ipython3",
   "version": "3.10.4"
  }
 },
 "nbformat": 4,
 "nbformat_minor": 5
}
